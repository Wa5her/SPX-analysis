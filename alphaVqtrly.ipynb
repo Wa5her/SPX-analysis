{
 "cells": [
  {
   "cell_type": "markdown",
   "metadata": {},
   "source": [
    "Code to pull data for a ticker in max available quaterly increments\n"
   ]
  },
  {
   "cell_type": "code",
   "execution_count": 22,
   "metadata": {},
   "outputs": [],
   "source": [
    "import requests\n",
    "import pandas as pd\n",
    "from time import sleep\n",
    "\n",
    "keyfile = \"apikey.txt\"\n",
    "key = open(keyfile,\"r\").readline().strip()\n"
   ]
  },
  {
   "cell_type": "code",
   "execution_count": 23,
   "metadata": {},
   "outputs": [],
   "source": [
    "def get_qtr_data(ticker,function='EARNINGS',key=key):\n",
    "    url = 'https://www.alphavantage.co/query?function='+function+'&symbol='+ticker+'&apikey='+key\n",
    "    print(url)\n",
    "    r = requests.get(url)\n",
    "    df = pd.json_normalize(r.json()['quarterlyEarnings'])\n",
    "    df[\"Ticker\"] = ticker\n",
    "    return df\n"
   ]
  },
  {
   "cell_type": "code",
   "execution_count": 30,
   "metadata": {},
   "outputs": [],
   "source": [
    "#get_qtr_data(\"AAPL\")\n",
    "url = 'https://www.alphavantage.co/query?function=EARNINGS&symbol=AAPL&apikey=6JS1ZXIORAEERPJ4'\n",
    "r = requests.get(url)"
   ]
  },
  {
   "cell_type": "code",
   "execution_count": 31,
   "metadata": {},
   "outputs": [
    {
     "data": {
      "text/plain": [
       "{'Information': 'Thank you for using Alpha Vantage! Our standard API rate limit is 25 requests per day. Please subscribe to any of the premium plans at https://www.alphavantage.co/premium/ to instantly remove all daily rate limits.'}"
      ]
     },
     "execution_count": 31,
     "metadata": {},
     "output_type": "execute_result"
    }
   ],
   "source": [
    "r.json()"
   ]
  },
  {
   "cell_type": "code",
   "execution_count": 29,
   "metadata": {},
   "outputs": [
    {
     "name": "stdout",
     "output_type": "stream",
     "text": [
      "AAPL\n",
      "https://www.alphavantage.co/query?function=EARNINGS&symbol=AAPL&apikey=6JS1ZXIORAEERPJ4\n",
      "Error with AAPL\n"
     ]
    }
   ],
   "source": [
    "SPX = pd.read_csv(\"spy_holdings.csv\")\n",
    "SPX_qtr_history = pd.DataFrame()\n",
    "for ticker in SPX[\"Ticker\"]:\n",
    "    print(ticker)\n",
    "    try:\n",
    "        #df = get_qtr_data(ticker)\n",
    "        SPX_qtr_history = pd.concat([SPX_qtr_history,get_qtr_data(ticker)])\n",
    "        sleep(60*1000/5+1)\n",
    "    except:\n",
    "        print(\"Error with\",ticker)\n",
    "        break\n",
    "\n",
    "SPX_qtr_history.to_csv(\"SPX_qtr_history.csv\",index=False)"
   ]
  },
  {
   "cell_type": "code",
   "execution_count": 27,
   "metadata": {},
   "outputs": [],
   "source": [
    "SPX_qtr_history.to_csv(\"SPX_qtr_history.csv\",index=False)"
   ]
  },
  {
   "cell_type": "code",
   "execution_count": 28,
   "metadata": {},
   "outputs": [],
   "source": []
  }
 ],
 "metadata": {
  "kernelspec": {
   "display_name": "Python 3",
   "language": "python",
   "name": "python3"
  },
  "language_info": {
   "codemirror_mode": {
    "name": "ipython",
    "version": 3
   },
   "file_extension": ".py",
   "mimetype": "text/x-python",
   "name": "python",
   "nbconvert_exporter": "python",
   "pygments_lexer": "ipython3",
   "version": "3.12.8"
  }
 },
 "nbformat": 4,
 "nbformat_minor": 2
}

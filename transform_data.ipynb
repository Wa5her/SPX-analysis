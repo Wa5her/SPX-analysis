{
 "cells": [
  {
   "cell_type": "markdown",
   "metadata": {},
   "source": [
    "### This file preps the data to feed into the training \n",
    "\n",
    "The ML model predicts the eps that will be declared on a filing date\n",
    "---\n",
    "## Inputs:\n",
    "- past 30 day normalised stock price metrics for all SPX stocks \n",
    "- past 4 Q EPS values for all SPX stocks (TBD)\n",
    "\n",
    "---\n",
    "# Steps\n",
    "1. Identify the model type to use \n",
    "2. Identify the effect of open close and volume on the prediction\n",
    "3. Identify key values in the data sent to the model  - dimensionality reduction \n"
   ]
  },
  {
   "cell_type": "code",
   "execution_count": 2,
   "metadata": {},
   "outputs": [],
   "source": [
    "import pandas as pd\n",
    "import numpy as np\n",
    "import matplotlib\n",
    "from datetime import datetime,timedelta\n",
    "import os\n",
    "\n",
    "from sklearn.preprocessing import LabelEncoder,MaxAbsScaler,normalize\n",
    "root_df = pd.read_csv('extracted_data.csv',parse_dates=['start','end','filed'])"
   ]
  },
  {
   "cell_type": "code",
   "execution_count": 3,
   "metadata": {},
   "outputs": [],
   "source": [
    "\n",
    "df = root_df.copy()\n",
    "df['EarningsPerShareDiluted'] = df['EarningsPerShareDiluted'].fillna(df['IncomeLossFromContinuingOperationsPerDilutedShare'].fillna(0) + df['IncomeLossFromDiscontinuedOperationsNetOfTaxPerDilutedShare'].fillna(0))\n",
    "\n",
    "df['Diluted EPS PA'] = df['EarningsPerShareDiluted'] *  365.25 / (df['end'] - df['start']).dt.days"
   ]
  },
  {
   "cell_type": "markdown",
   "metadata": {},
   "source": [
    "Letst start with where to start the data \n",
    "Based on code below we know which year to start our analysis from ie 2012 (85% + have filed by 2011)\n",
    "'''\n",
    "start_days = df.pivot_table(index = 'ticker',values='filed',aggfunc='min')\n",
    "df1 = start_days.groupby( start_days['filed'].dt.year, as_index=True).count()\n",
    "'''"
   ]
  },
  {
   "cell_type": "code",
   "execution_count": 58,
   "metadata": {},
   "outputs": [
    {
     "name": "stdout",
     "output_type": "stream",
     "text": [
      "0:00:00.052954\n"
     ]
    }
   ],
   "source": [
    "def daily_data(start, end, ticker, columns=['Close', 'High', 'Low', 'Open', 'Volume'], folder='daily-data'):\n",
    "    filepath = os.path.join(os.getcwd(), folder, f'{ticker}.csv')\n",
    "    data = pd.read_csv(filepath, index_col='Date', parse_dates=True)\n",
    "    \n",
    "    \n",
    "    start_date = pd.to_datetime(start)\n",
    "    end_date = pd.to_datetime(end)\n",
    "    \n",
    "    date_ranges = pd.date_range(start=start_date, end=end_date)\n",
    "    \n",
    "    for date_i in date_ranges:\n",
    "        i=1\n",
    "        while date_i not in data.index:\n",
    "            try:\n",
    "                data.loc[date_i] = data.loc[date_i - timedelta(days=i)]\n",
    "                data.loc[date_i,:] = data.loc[date_i,'Close']\n",
    "                data.loc[date_i,'Volume'] = 0\n",
    "            except:\n",
    "                i+=1\n",
    "    data = data.sort_index()\n",
    "    return data.loc[start_date:end_date, columns]\n",
    "\n",
    "time = datetime.now()\n",
    "daily_data('2019-11-01', '2019-12-31', 'AAPL')\n",
    "print(datetime.now()-time)"
   ]
  },
  {
   "cell_type": "code",
   "execution_count": 59,
   "metadata": {},
   "outputs": [
    {
     "name": "stdout",
     "output_type": "stream",
     "text": [
      "0:00:00.006898\n"
     ]
    }
   ],
   "source": [
    "def eff_daily_data(start, end, ticker, columns=['Close', 'High', 'Low', 'Open', 'Volume'], folder='daily-data'):\n",
    "    \"\"\"\n",
    "    Retrieves daily stock data for a given ticker and date range, efficiently handling missing data.\n",
    "    Optimized for the specific CSV format provided.\n",
    "\n",
    "    Args:\n",
    "        start (str or datetime): Start date of the desired data range.\n",
    "        end (str or datetime): End date of the desired data range.\n",
    "        ticker (str): Stock ticker symbol.\n",
    "        columns (list, optional): List of columns to include in the output. \n",
    "                                   Defaults to ['Close', 'High', 'Low', 'Open', 'Volume'].\n",
    "        folder (str, optional): Name of the folder where data files are stored. Defaults to 'daily-data'.\n",
    "\n",
    "    Returns:\n",
    "        pd.DataFrame: DataFrame containing the requested stock data.\n",
    "    \"\"\"\n",
    "    filepath = os.path.join(os.getcwd(), folder, f'{ticker}.csv')\n",
    "\n",
    "    # Optimized read_csv based on provided sample data\n",
    "    data = pd.read_csv(filepath, index_col='Date', parse_dates=True)\n",
    "\n",
    "    start_date = pd.to_datetime(start)\n",
    "    end_date = pd.to_datetime(end)\n",
    "\n",
    "    # Efficiently handle missing dates using reindex and ffill\n",
    "    full_date_range = pd.date_range(start=start_date, end=end_date)\n",
    "    data = data.reindex(full_date_range)\n",
    "    data[columns[:-1]] = data[columns[:-1]].ffill()  # Forward fill all columns except 'Volume'\n",
    "    data['Volume'] = data['Volume'].fillna(0)  # Fill missing 'Volume' with 0\n",
    "\n",
    "    return data.loc[start_date:end_date]\n",
    "time = datetime.now()\n",
    "eff_daily_data('2019-11-01', '2019-12-31', 'AAPL')\n",
    "print(datetime.now()-time)"
   ]
  },
  {
   "cell_type": "code",
   "execution_count": 1,
   "metadata": {},
   "outputs": [],
   "source": [
    "#Parmeters for training data generation\n",
    "start_year = 2014\n",
    "ticker = 'AAPL'\n",
    "pastdays = 30 #Daysbefore filing date\n",
    "daily_metrics = ['Close','Volume']\n",
    "pastqtrs = 4\n",
    "forms = [] #['10-K','10-Q']\n",
    "Industry_level = True\n",
    "Sector_level = False\n",
    "Index_level = False #Need infor on historical index data\n",
    "Limit_by_marketcap = 0 #0 for no limit\n",
    "\n"
   ]
  },
  {
   "cell_type": "code",
   "execution_count": 4,
   "metadata": {},
   "outputs": [
    {
     "name": "stdout",
     "output_type": "stream",
     "text": [
      "Warning: Data file not found for ticker: BF.B. Skipping...\n",
      "Warning: Data file not found for ticker: BRK.B. Skipping...\n",
      "Processing data for ticker: ZTS.....\r"
     ]
    }
   ],
   "source": [
    "#AI optimised Code\n",
    "\n",
    "def generate_training_data(df, start_year, pastdays, daily_metrics, daily_data_folder='daily-data'):\n",
    "    \"\"\"\n",
    "    Generates training data from a DataFrame of financial filings and a set of daily stock data CSV files.\n",
    "\n",
    "    Args:\n",
    "        df (pd.DataFrame): DataFrame containing financial filing data with columns:\n",
    "                           'start', 'end', 'filed', 'ticker', 'form', 'Diluted EPS PA'.\n",
    "        start_year (int): The earliest year to include data from (based on 'filed' date).\n",
    "        pastdays (int): Number of past days of daily data to include for each filing.\n",
    "        daily_metrics (list): List of daily metrics to include (e.g., ['Close', 'High', 'Low']).\n",
    "        daily_data_folder (str): Folder containing the daily stock data CSV files.\n",
    "\n",
    "    Returns:\n",
    "        pd.DataFrame: Training data with historical daily data appended.\n",
    "    \"\"\"\n",
    "\n",
    "    # 1. Filter and Prepare Data:\n",
    "    Training_data = df[df['filed'].dt.year >= start_year].copy()  # Filter by year, use .copy() to avoid SettingWithCopyWarning\n",
    "    Training_data = Training_data[['start', 'end', 'filed', 'ticker', 'form', 'Diluted EPS PA']]\n",
    "    Training_data['duration'] = (Training_data['end'] - Training_data['start']).dt.days\n",
    "    Training_data['filing delay'] = (Training_data['filed'] - Training_data['end']).dt.days\n",
    "    Training_data['filing age'] = (datetime.now() - Training_data['filed']).dt.days\n",
    "\n",
    "    # 2. Create Columns for Past Days Efficiently:\n",
    "    past_days_columns = [f'{metric}_{i}_days_ago' for i in range(pastdays + 1) for metric in daily_metrics]\n",
    "    Training_data = Training_data.reindex(columns=Training_data.columns.tolist() + past_days_columns)\n",
    "\n",
    "    # 3. Optimized Data Loading and Processing:\n",
    "    # a. Group by Ticker\n",
    "    grouped = Training_data.groupby('ticker')\n",
    "\n",
    "    # b. Iterate Through Groups\n",
    "    for ticker, group_data in grouped:\n",
    "        print(f\"Processing data for ticker: {ticker}...\",end='\\r')\n",
    "        # Load daily data for the ticker ONCE\n",
    "        try:\n",
    "            filepath = os.path.join(os.getcwd(), daily_data_folder, f'{ticker}.csv')\n",
    "            # Optimized read_csv based on previous improvements:\n",
    "            daily_stock_data = pd.read_csv(filepath, parse_dates=True, index_col='Date')\n",
    "        except (ValueError,FileNotFoundError):\n",
    "            print(f\"Warning: Data file not found for ticker: {ticker}. Skipping...\")\n",
    "            continue\n",
    "        \n",
    "        # Iterate through rows of each group efficiently using .itertuples()\n",
    "        for row in group_data.itertuples():\n",
    "            # c. Handle Missing Dates (Weekends/Holidays):\n",
    "            start_date = row.filed - timedelta(days=pastdays+2)\n",
    "            end_date = row.filed\n",
    "\n",
    "            # Create a full date range, including weekends/holidays\n",
    "            full_date_range = pd.date_range(start=start_date, end=end_date)\n",
    "\n",
    "            # Reindex the daily data to include missing dates\n",
    "            past_data = daily_stock_data.reindex(full_date_range)\n",
    "\n",
    "            # Identify columns to fill (all except 'Volume', if present)\n",
    "            cols_to_fill = [col for col in daily_metrics if col != 'Volume']\n",
    "\n",
    "            # Fill 'Volume' with 0 for missing dates, if 'Volume' is in daily_metrics\n",
    "            if 'Volume' in daily_metrics:\n",
    "                past_data['Volume'] = past_data['Volume'].fillna(0)\n",
    "\n",
    "            # Forward-fill with the last valid 'Close' value for other columns\n",
    "            # 1. Get the last valid 'Close' value\n",
    "            last_valid_close = past_data['Close'].ffill()\n",
    "\n",
    "            # 2. Create a mask for missing values in other columns\n",
    "            missing_mask = past_data[cols_to_fill].isna()\n",
    "\n",
    "            # 3. Fill the missing values using the mask and the last valid 'Close'\n",
    "            past_data[cols_to_fill] = past_data[cols_to_fill].where(~missing_mask, last_valid_close, axis=0)\n",
    "\n",
    "            # Sort the data in descending order\n",
    "            past_data = past_data.sort_index(ascending=False)\n",
    "            past_data = past_data[daily_metrics]\n",
    "            \n",
    "            past_data = past_data.iloc[:-2]\n",
    "            #return past_data\n",
    "            \n",
    "\n",
    "            # Flatten and assign data\n",
    "            out = np.array(past_data).reshape(-1)\n",
    "            try:\n",
    "                Training_data.loc[row.Index, past_days_columns] = out.astype(float)\n",
    "            except Exception as e:\n",
    "                print(e)\n",
    "                print(str(start_date) + ticker+ str(end_date))\n",
    "                print(out.shape)\n",
    "                print(len(past_days_columns))\n",
    "                #break\n",
    "        #print(ticker,Training_data)\n",
    "        #break\n",
    "    # 4. Sort Data\n",
    "    Training_data = Training_data.sort_values(by='filed', ascending=True).reset_index(drop=True)\n",
    "\n",
    "    return Training_data\n",
    "Training_data = generate_training_data(df, start_year, pastdays, daily_metrics)\n",
    "#Training_data.to_csv('training_data.csv', index=False)"
   ]
  },
  {
   "cell_type": "code",
   "execution_count": 5,
   "metadata": {},
   "outputs": [],
   "source": [
    "Training_data.to_csv('training_data.csv', index=False)"
   ]
  }
 ],
 "metadata": {
  "kernelspec": {
   "display_name": "Python 3",
   "language": "python",
   "name": "python3"
  },
  "language_info": {
   "codemirror_mode": {
    "name": "ipython",
    "version": 3
   },
   "file_extension": ".py",
   "mimetype": "text/x-python",
   "name": "python",
   "nbconvert_exporter": "python",
   "pygments_lexer": "ipython3",
   "version": "3.12.6"
  }
 },
 "nbformat": 4,
 "nbformat_minor": 2
}

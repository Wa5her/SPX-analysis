{
 "cells": [
  {
   "cell_type": "markdown",
   "metadata": {},
   "source": [
    "### This file preps the data to feed into the training \n",
    "\n",
    "The ML model predicts the eps that will be declared on a filing date\n",
    "---\n",
    "## Inputs:\n",
    "- past 30 day normalised stock price metrics for all SPX stocks \n",
    "- past 4 Q EPS values for all SPX stocks\n",
    "\n",
    "---\n",
    "# Steps\n",
    "1. Identify the model type to use \n",
    "2. Identify the effect of open close and volume on the prediction\n",
    "3. Identify key values in the data sent to the model  - dimensionality reduction \n"
   ]
  },
  {
   "cell_type": "code",
   "execution_count": 14,
   "metadata": {},
   "outputs": [],
   "source": [
    "import pandas as pd\n",
    "import numpy as np\n",
    "import matplotlib\n",
    "from datetime import datetime,timedelta\n",
    "import os\n",
    "root_df = pd.read_csv('extracted_data.csv',parse_dates=['start','end','filed'])"
   ]
  },
  {
   "cell_type": "code",
   "execution_count": 16,
   "metadata": {},
   "outputs": [],
   "source": [
    "missingeps = pd.isna(root_df['EarningsPerShareDiluted'])\n",
    "df = root_df.copy()\n",
    "df.loc[missingeps, 'Diluted EPS PA'] = df.loc[missingeps, 'IncomeLossFromContinuingOperationsPerDilutedShare'] + df.loc[missingeps, 'IncomeLossFromDiscontinuedOperationsNetOfTaxPerDilutedShare']\n",
    "df['Diluted EPS PA'] = df['EarningsPerShareDiluted'] *  365.25 / (df['end'] - df['start']).dt.days"
   ]
  },
  {
   "cell_type": "markdown",
   "metadata": {},
   "source": [
    "Letst start with where to start the data \n",
    "Based on code below we know which year to start our analysis from ie 2012 (85% + have filed by 2011)\n",
    "'''\n",
    "start_days = df.pivot_table(index = 'ticker',values='filed',aggfunc='min')\n",
    "df1 = start_days.groupby( start_days['filed'].dt.year, as_index=True).count()\n",
    "'''"
   ]
  },
  {
   "cell_type": "code",
   "execution_count": 10,
   "metadata": {},
   "outputs": [
    {
     "name": "stdout",
     "output_type": "stream",
     "text": [
      "0:00:00.032938\n"
     ]
    }
   ],
   "source": [
    "def daily_data(start, end, ticker, columns=['Close', 'High', 'Low', 'Open', 'Volume'], folder='daily-data'):\n",
    "    filepath = os.path.join(os.getcwd(), folder, f'{ticker}.csv')\n",
    "    data = pd.read_csv(filepath, index_col='Date', parse_dates=True)\n",
    "    \n",
    "    \n",
    "    start_date = pd.to_datetime(start)\n",
    "    end_date = pd.to_datetime(end)\n",
    "    \n",
    "    date_ranges = pd.date_range(start=start_date, end=end_date)\n",
    "    \n",
    "    for date_i in date_ranges:\n",
    "        i=1\n",
    "        while date_i not in data.index:\n",
    "            try:\n",
    "                data.loc[date_i] = data.loc[date_i - timedelta(days=i)]\n",
    "                data.loc[date_i,:] = data.loc[date_i,'Close']\n",
    "                data.loc[date_i,'Volume'] = 0\n",
    "            except:\n",
    "                i+=1\n",
    "    data = data.sort_index()\n",
    "    return data.loc[start_date:end_date, columns]\n",
    "\n",
    "time = datetime.now()\n",
    "daily_data('2019-11-01', '2019-12-31', 'AAPL')\n",
    "print(datetime.now()-time)"
   ]
  },
  {
   "cell_type": "code",
   "execution_count": 17,
   "metadata": {},
   "outputs": [
    {
     "name": "stdout",
     "output_type": "stream",
     "text": [
      "0:00:00.007760\n"
     ]
    }
   ],
   "source": [
    "def eff_daily_data(start, end, ticker, columns=['Close', 'High', 'Low', 'Open', 'Volume'], folder='daily-data'):\n",
    "    \"\"\"\n",
    "    Retrieves daily stock data for a given ticker and date range, efficiently handling missing data.\n",
    "    Optimized for the specific CSV format provided.\n",
    "\n",
    "    Args:\n",
    "        start (str or datetime): Start date of the desired data range.\n",
    "        end (str or datetime): End date of the desired data range.\n",
    "        ticker (str): Stock ticker symbol.\n",
    "        columns (list, optional): List of columns to include in the output. \n",
    "                                   Defaults to ['Close', 'High', 'Low', 'Open', 'Volume'].\n",
    "        folder (str, optional): Name of the folder where data files are stored. Defaults to 'daily-data'.\n",
    "\n",
    "    Returns:\n",
    "        pd.DataFrame: DataFrame containing the requested stock data.\n",
    "    \"\"\"\n",
    "    filepath = os.path.join(os.getcwd(), folder, f'{ticker}.csv')\n",
    "\n",
    "    # Optimized read_csv based on provided sample data\n",
    "    data = pd.read_csv(filepath, index_col='Date', parse_dates=True)\n",
    "\n",
    "    start_date = pd.to_datetime(start)\n",
    "    end_date = pd.to_datetime(end)\n",
    "\n",
    "    # Efficiently handle missing dates using reindex and ffill\n",
    "    full_date_range = pd.date_range(start=start_date, end=end_date)\n",
    "    data = data.reindex(full_date_range)\n",
    "    data[columns[:-1]] = data[columns[:-1]].ffill()  # Forward fill all columns except 'Volume'\n",
    "    data['Volume'] = data['Volume'].fillna(0)  # Fill missing 'Volume' with 0\n",
    "\n",
    "    return data.loc[start_date:end_date]\n",
    "time = datetime.now()\n",
    "eff_daily_data('2019-11-01', '2019-12-31', 'AAPL')\n",
    "print(datetime.now()-time)"
   ]
  },
  {
   "cell_type": "markdown",
   "metadata": {},
   "source": [
    "Theses are the parameters to generate the training data"
   ]
  },
  {
   "cell_type": "code",
   "execution_count": 18,
   "metadata": {},
   "outputs": [],
   "source": [
    "#Parmeters for training data generation\n",
    "start_year = 2014\n",
    "ticker = 'AAPL'\n",
    "pastdays = 30 #Daysbefore filing date\n",
    "daily_metrics = ['Close','Volume']\n",
    "pastqtrs = 4\n",
    "forms = [] #['10-K','10-Q']\n",
    "Industry_level = True\n",
    "Sector_level = False\n",
    "Index_level = False #Need infor on historical index data\n",
    "Limit_by_marketcap = 0 #0 for no limit\n",
    "\n"
   ]
  },
  {
   "cell_type": "markdown",
   "metadata": {},
   "source": [
    "Filtering the filing data to show only relevant rows and columsn based on the filters declared above"
   ]
  },
  {
   "cell_type": "code",
   "execution_count": 30,
   "metadata": {},
   "outputs": [],
   "source": [
    "#Generate training data by removing unwanted columns and rows\n",
    "Training_data = df[(df['filed'].dt.year >= start_year) ]#& (df['ticker'] == ticker)]\n",
    "Training_data = Training_data[['start', 'end', 'filed', 'ticker', 'form', 'Diluted EPS PA']]\n",
    "Training_data['duration'] = (Training_data['end'] - Training_data['start']).dt.days\n"
   ]
  },
  {
   "cell_type": "code",
   "execution_count": 31,
   "metadata": {},
   "outputs": [],
   "source": [
    "# Create the columns for the past days\n",
    "for i in range(pastdays+1):\n",
    "    for j in daily_metrics:\n",
    "        col_name = f'{j}_{i}_days_ago'\n",
    "        Training_data[col_name] = pd.Series(dtype=float)\n",
    "Training_data=Training_data.reset_index()\n",
    "columns_list=Training_data.columns.tolist()\n",
    "           "
   ]
  },
  {
   "cell_type": "code",
   "execution_count": 32,
   "metadata": {},
   "outputs": [
    {
     "ename": "",
     "evalue": "",
     "output_type": "error",
     "traceback": [
      "\u001b[1;31mCannot execute code, session has been disposed. Please try restarting the Kernel."
     ]
    },
    {
     "ename": "",
     "evalue": "",
     "output_type": "error",
     "traceback": [
      "\u001b[1;31mCannot execute code, session has been disposed. Please try restarting the Kernel. \n",
      "\u001b[1;31mView Jupyter <a href='command:jupyter.viewOutput'>log</a> for further details."
     ]
    }
   ],
   "source": [
    "#Fill past days\n",
    "for index, row in Training_data.iterrows():\n",
    "    stock_prices = daily_data(row['filed'] - timedelta(days=pastdays), row['filed'], ticker, daily_metrics)\n",
    "    out = np.array(stock_prices).reshape(-1)\n",
    "    paste_col = columns_list.index(f'{daily_metrics[0]}_0_days_ago')\n",
    "    Training_data.iloc[index, paste_col:paste_col+len(out)] = out.astype(float)\n",
    "    #print(len(out))\n",
    "    #print(Training_data.iloc[index])\n",
    "    #break\n",
    "Training_data = Training_data.sort_values(by='filed', ascending=True).reset_index(drop=True)"
   ]
  },
  {
   "cell_type": "code",
   "execution_count": 40,
   "metadata": {},
   "outputs": [
    {
     "name": "stdout",
     "output_type": "stream",
     "text": [
      "Warning: Data file not found for ticker: BF.B. Skipping...\n",
      "Warning: Data file not found for ticker: BRK.B. Skipping...\n"
     ]
    }
   ],
   "source": [
    "#AI optimised Code\n",
    "\n",
    "def generate_training_data(df, start_year, pastdays, daily_metrics, daily_data_folder='daily-data'):\n",
    "    \"\"\"\n",
    "    Generates training data from a DataFrame of financial filings and a set of daily stock data CSV files.\n",
    "\n",
    "    Args:\n",
    "        df (pd.DataFrame): DataFrame containing financial filing data with columns:\n",
    "                           'start', 'end', 'filed', 'ticker', 'form', 'Diluted EPS PA'.\n",
    "        start_year (int): The earliest year to include data from (based on 'filed' date).\n",
    "        pastdays (int): Number of past days of daily data to include for each filing.\n",
    "        daily_metrics (list): List of daily metrics to include (e.g., ['Close', 'High', 'Low']).\n",
    "        daily_data_folder (str): Folder containing the daily stock data CSV files.\n",
    "\n",
    "    Returns:\n",
    "        pd.DataFrame: Training data with historical daily data appended.\n",
    "    \"\"\"\n",
    "\n",
    "    # 1. Filter and Prepare Data:\n",
    "    Training_data = df[df['filed'].dt.year >= start_year].copy()  # Filter by year, use .copy() to avoid SettingWithCopyWarning\n",
    "    Training_data = Training_data[['start', 'end', 'filed', 'ticker', 'form', 'Diluted EPS PA']]\n",
    "    Training_data['duration'] = (Training_data['end'] - Training_data['start']).dt.days\n",
    "    Training_data['filing delay'] = (Training_data['filed'] - Training_data['end']).dt.days\n",
    "    Training_data['filing age'] = (datetime.now() - Training_data['filed']).dt.days\n",
    "\n",
    "    # 2. Create Columns for Past Days Efficiently:\n",
    "    past_days_columns = [f'{metric}_{i}_days_ago' for i in range(pastdays + 1) for metric in daily_metrics]\n",
    "    Training_data = Training_data.reindex(columns=Training_data.columns.tolist() + past_days_columns)\n",
    "\n",
    "    # 3. Optimized Data Loading and Processing:\n",
    "    # a. Group by Ticker\n",
    "    grouped = Training_data.groupby('ticker')\n",
    "\n",
    "    # b. Iterate Through Groups\n",
    "    for ticker, group_data in grouped:\n",
    "        print(f\"Processing data for ticker: {ticker}...\")\n",
    "        # Load daily data for the ticker ONCE\n",
    "        try:\n",
    "            filepath = os.path.join(os.getcwd(), daily_data_folder, f'{ticker}.csv')\n",
    "            # Optimized read_csv based on previous improvements:\n",
    "            daily_stock_data = pd.read_csv(filepath, parse_dates=True, index_col='Date')\n",
    "        except (ValueError,FileNotFoundError):\n",
    "            print(f\"Warning: Data file not found for ticker: {ticker}. Skipping...\")\n",
    "            continue\n",
    "        \n",
    "        # Iterate through rows of each group efficiently using .itertuples()\n",
    "        for row in group_data.itertuples():\n",
    "            # c. Handle Missing Dates (Weekends/Holidays):\n",
    "            start_date = row.filed - timedelta(days=pastdays)\n",
    "            end_date = row.filed\n",
    "\n",
    "            # Create a full date range, including weekends/holidays\n",
    "            full_date_range = pd.date_range(start=start_date, end=end_date)\n",
    "\n",
    "            # Reindex the daily data to include missing dates\n",
    "            past_data = daily_stock_data.reindex(full_date_range)\n",
    "\n",
    "            # Identify columns to fill (all except 'Volume', if present)\n",
    "            cols_to_fill = [col for col in daily_metrics if col != 'Volume']\n",
    "\n",
    "            # Fill 'Volume' with 0 for missing dates, if 'Volume' is in daily_metrics\n",
    "            if 'Volume' in daily_metrics:\n",
    "                past_data['Volume'] = past_data['Volume'].fillna(0)\n",
    "\n",
    "            # Forward-fill with the last valid 'Close' value for other columns\n",
    "            # 1. Get the last valid 'Close' value\n",
    "            last_valid_close = past_data['Close'].ffill()\n",
    "\n",
    "            # 2. Create a mask for missing values in other columns\n",
    "            missing_mask = past_data[cols_to_fill].isna()\n",
    "\n",
    "            # 3. Fill the missing values using the mask and the last valid 'Close'\n",
    "            past_data[cols_to_fill] = past_data[cols_to_fill].where(~missing_mask, last_valid_close, axis=0)\n",
    "\n",
    "            # Sort the data in descending order\n",
    "            past_data = past_data.sort_index(ascending=False)\n",
    "            past_data = past_data[daily_metrics]\n",
    "\n",
    "            # Flatten and assign data\n",
    "            out = np.array(past_data).reshape(-1)\n",
    "            try:\n",
    "                Training_data.loc[row.Index, past_days_columns] = out.astype(float)\n",
    "            except Exception as e:\n",
    "                print(e)\n",
    "                print(str(start_date) + ticker+ str(end_date))\n",
    "                print(out.shape)\n",
    "                print(len(past_days_columns))\n",
    "                #break\n",
    "        #break\n",
    "    # 4. Sort Data\n",
    "    Training_data = Training_data.sort_values(by='filed', ascending=True).reset_index(drop=True)\n",
    "\n",
    "    return Training_data\n",
    "Training_data = generate_training_data(df, start_year, pastdays, daily_metrics)\n",
    "Training_data.to_csv('training_data.csv', index=False)"
   ]
  },
  {
   "cell_type": "code",
   "execution_count": 42,
   "metadata": {},
   "outputs": [],
   "source": [
    "Training_data.to_csv('training_data.csv',index=False)"
   ]
  },
  {
   "cell_type": "code",
   "execution_count": 24,
   "metadata": {},
   "outputs": [
    {
     "ename": "ValueError",
     "evalue": "'Date' is not in list",
     "output_type": "error",
     "traceback": [
      "\u001b[0;31m---------------------------------------------------------------------------\u001b[0m",
      "\u001b[0;31mValueError\u001b[0m                                Traceback (most recent call last)",
      "Cell \u001b[0;32mIn[24], line 2\u001b[0m\n\u001b[1;32m      1\u001b[0m filepath \u001b[38;5;241m=\u001b[39m \u001b[38;5;124m'\u001b[39m\u001b[38;5;124m./daily-data/BRK.B.csv\u001b[39m\u001b[38;5;124m'\u001b[39m\n\u001b[0;32m----> 2\u001b[0m a \u001b[38;5;241m=\u001b[39m \u001b[43mpd\u001b[49m\u001b[38;5;241;43m.\u001b[39;49m\u001b[43mread_csv\u001b[49m\u001b[43m(\u001b[49m\u001b[43mfilepath\u001b[49m\u001b[43m,\u001b[49m\u001b[43m \u001b[49m\u001b[43mparse_dates\u001b[49m\u001b[38;5;241;43m=\u001b[39;49m\u001b[38;5;28;43;01mTrue\u001b[39;49;00m\u001b[43m,\u001b[49m\u001b[43mindex_col\u001b[49m\u001b[38;5;241;43m=\u001b[39;49m\u001b[38;5;124;43m'\u001b[39;49m\u001b[38;5;124;43mDate\u001b[39;49m\u001b[38;5;124;43m'\u001b[39;49m\u001b[43m)\u001b[49m\n\u001b[1;32m      3\u001b[0m a\u001b[38;5;241m.\u001b[39mindex\n",
      "File \u001b[0;32m~/Projects/SPX/SPX-analysis/SPX-venv/lib/python3.12/site-packages/pandas/io/parsers/readers.py:1026\u001b[0m, in \u001b[0;36mread_csv\u001b[0;34m(filepath_or_buffer, sep, delimiter, header, names, index_col, usecols, dtype, engine, converters, true_values, false_values, skipinitialspace, skiprows, skipfooter, nrows, na_values, keep_default_na, na_filter, verbose, skip_blank_lines, parse_dates, infer_datetime_format, keep_date_col, date_parser, date_format, dayfirst, cache_dates, iterator, chunksize, compression, thousands, decimal, lineterminator, quotechar, quoting, doublequote, escapechar, comment, encoding, encoding_errors, dialect, on_bad_lines, delim_whitespace, low_memory, memory_map, float_precision, storage_options, dtype_backend)\u001b[0m\n\u001b[1;32m   1013\u001b[0m kwds_defaults \u001b[38;5;241m=\u001b[39m _refine_defaults_read(\n\u001b[1;32m   1014\u001b[0m     dialect,\n\u001b[1;32m   1015\u001b[0m     delimiter,\n\u001b[0;32m   (...)\u001b[0m\n\u001b[1;32m   1022\u001b[0m     dtype_backend\u001b[38;5;241m=\u001b[39mdtype_backend,\n\u001b[1;32m   1023\u001b[0m )\n\u001b[1;32m   1024\u001b[0m kwds\u001b[38;5;241m.\u001b[39mupdate(kwds_defaults)\n\u001b[0;32m-> 1026\u001b[0m \u001b[38;5;28;01mreturn\u001b[39;00m \u001b[43m_read\u001b[49m\u001b[43m(\u001b[49m\u001b[43mfilepath_or_buffer\u001b[49m\u001b[43m,\u001b[49m\u001b[43m \u001b[49m\u001b[43mkwds\u001b[49m\u001b[43m)\u001b[49m\n",
      "File \u001b[0;32m~/Projects/SPX/SPX-analysis/SPX-venv/lib/python3.12/site-packages/pandas/io/parsers/readers.py:620\u001b[0m, in \u001b[0;36m_read\u001b[0;34m(filepath_or_buffer, kwds)\u001b[0m\n\u001b[1;32m    617\u001b[0m _validate_names(kwds\u001b[38;5;241m.\u001b[39mget(\u001b[38;5;124m\"\u001b[39m\u001b[38;5;124mnames\u001b[39m\u001b[38;5;124m\"\u001b[39m, \u001b[38;5;28;01mNone\u001b[39;00m))\n\u001b[1;32m    619\u001b[0m \u001b[38;5;66;03m# Create the parser.\u001b[39;00m\n\u001b[0;32m--> 620\u001b[0m parser \u001b[38;5;241m=\u001b[39m \u001b[43mTextFileReader\u001b[49m\u001b[43m(\u001b[49m\u001b[43mfilepath_or_buffer\u001b[49m\u001b[43m,\u001b[49m\u001b[43m \u001b[49m\u001b[38;5;241;43m*\u001b[39;49m\u001b[38;5;241;43m*\u001b[39;49m\u001b[43mkwds\u001b[49m\u001b[43m)\u001b[49m\n\u001b[1;32m    622\u001b[0m \u001b[38;5;28;01mif\u001b[39;00m chunksize \u001b[38;5;129;01mor\u001b[39;00m iterator:\n\u001b[1;32m    623\u001b[0m     \u001b[38;5;28;01mreturn\u001b[39;00m parser\n",
      "File \u001b[0;32m~/Projects/SPX/SPX-analysis/SPX-venv/lib/python3.12/site-packages/pandas/io/parsers/readers.py:1620\u001b[0m, in \u001b[0;36mTextFileReader.__init__\u001b[0;34m(self, f, engine, **kwds)\u001b[0m\n\u001b[1;32m   1617\u001b[0m     \u001b[38;5;28mself\u001b[39m\u001b[38;5;241m.\u001b[39moptions[\u001b[38;5;124m\"\u001b[39m\u001b[38;5;124mhas_index_names\u001b[39m\u001b[38;5;124m\"\u001b[39m] \u001b[38;5;241m=\u001b[39m kwds[\u001b[38;5;124m\"\u001b[39m\u001b[38;5;124mhas_index_names\u001b[39m\u001b[38;5;124m\"\u001b[39m]\n\u001b[1;32m   1619\u001b[0m \u001b[38;5;28mself\u001b[39m\u001b[38;5;241m.\u001b[39mhandles: IOHandles \u001b[38;5;241m|\u001b[39m \u001b[38;5;28;01mNone\u001b[39;00m \u001b[38;5;241m=\u001b[39m \u001b[38;5;28;01mNone\u001b[39;00m\n\u001b[0;32m-> 1620\u001b[0m \u001b[38;5;28mself\u001b[39m\u001b[38;5;241m.\u001b[39m_engine \u001b[38;5;241m=\u001b[39m \u001b[38;5;28;43mself\u001b[39;49m\u001b[38;5;241;43m.\u001b[39;49m\u001b[43m_make_engine\u001b[49m\u001b[43m(\u001b[49m\u001b[43mf\u001b[49m\u001b[43m,\u001b[49m\u001b[43m \u001b[49m\u001b[38;5;28;43mself\u001b[39;49m\u001b[38;5;241;43m.\u001b[39;49m\u001b[43mengine\u001b[49m\u001b[43m)\u001b[49m\n",
      "File \u001b[0;32m~/Projects/SPX/SPX-analysis/SPX-venv/lib/python3.12/site-packages/pandas/io/parsers/readers.py:1898\u001b[0m, in \u001b[0;36mTextFileReader._make_engine\u001b[0;34m(self, f, engine)\u001b[0m\n\u001b[1;32m   1895\u001b[0m     \u001b[38;5;28;01mraise\u001b[39;00m \u001b[38;5;167;01mValueError\u001b[39;00m(msg)\n\u001b[1;32m   1897\u001b[0m \u001b[38;5;28;01mtry\u001b[39;00m:\n\u001b[0;32m-> 1898\u001b[0m     \u001b[38;5;28;01mreturn\u001b[39;00m \u001b[43mmapping\u001b[49m\u001b[43m[\u001b[49m\u001b[43mengine\u001b[49m\u001b[43m]\u001b[49m\u001b[43m(\u001b[49m\u001b[43mf\u001b[49m\u001b[43m,\u001b[49m\u001b[43m \u001b[49m\u001b[38;5;241;43m*\u001b[39;49m\u001b[38;5;241;43m*\u001b[39;49m\u001b[38;5;28;43mself\u001b[39;49m\u001b[38;5;241;43m.\u001b[39;49m\u001b[43moptions\u001b[49m\u001b[43m)\u001b[49m\n\u001b[1;32m   1899\u001b[0m \u001b[38;5;28;01mexcept\u001b[39;00m \u001b[38;5;167;01mException\u001b[39;00m:\n\u001b[1;32m   1900\u001b[0m     \u001b[38;5;28;01mif\u001b[39;00m \u001b[38;5;28mself\u001b[39m\u001b[38;5;241m.\u001b[39mhandles \u001b[38;5;129;01mis\u001b[39;00m \u001b[38;5;129;01mnot\u001b[39;00m \u001b[38;5;28;01mNone\u001b[39;00m:\n",
      "File \u001b[0;32m~/Projects/SPX/SPX-analysis/SPX-venv/lib/python3.12/site-packages/pandas/io/parsers/c_parser_wrapper.py:162\u001b[0m, in \u001b[0;36mCParserWrapper.__init__\u001b[0;34m(self, src, **kwds)\u001b[0m\n\u001b[1;32m    160\u001b[0m \u001b[38;5;66;03m# error: Cannot determine type of 'names'\u001b[39;00m\n\u001b[1;32m    161\u001b[0m \u001b[38;5;28mself\u001b[39m\u001b[38;5;241m.\u001b[39m_validate_parse_dates_presence(\u001b[38;5;28mself\u001b[39m\u001b[38;5;241m.\u001b[39mnames)  \u001b[38;5;66;03m# type: ignore[has-type]\u001b[39;00m\n\u001b[0;32m--> 162\u001b[0m \u001b[38;5;28;43mself\u001b[39;49m\u001b[38;5;241;43m.\u001b[39;49m\u001b[43m_set_noconvert_columns\u001b[49m\u001b[43m(\u001b[49m\u001b[43m)\u001b[49m\n\u001b[1;32m    164\u001b[0m \u001b[38;5;66;03m# error: Cannot determine type of 'names'\u001b[39;00m\n\u001b[1;32m    165\u001b[0m \u001b[38;5;28mself\u001b[39m\u001b[38;5;241m.\u001b[39morig_names \u001b[38;5;241m=\u001b[39m \u001b[38;5;28mself\u001b[39m\u001b[38;5;241m.\u001b[39mnames  \u001b[38;5;66;03m# type: ignore[has-type]\u001b[39;00m\n",
      "File \u001b[0;32m~/Projects/SPX/SPX-analysis/SPX-venv/lib/python3.12/site-packages/pandas/io/parsers/c_parser_wrapper.py:215\u001b[0m, in \u001b[0;36mCParserWrapper._set_noconvert_columns\u001b[0;34m(self)\u001b[0m\n\u001b[1;32m    213\u001b[0m col_indices \u001b[38;5;241m=\u001b[39m [names_dict[x] \u001b[38;5;28;01mfor\u001b[39;00m x \u001b[38;5;129;01min\u001b[39;00m \u001b[38;5;28mself\u001b[39m\u001b[38;5;241m.\u001b[39mnames]  \u001b[38;5;66;03m# type: ignore[has-type]\u001b[39;00m\n\u001b[1;32m    214\u001b[0m \u001b[38;5;66;03m# error: Cannot determine type of 'names'\u001b[39;00m\n\u001b[0;32m--> 215\u001b[0m noconvert_columns \u001b[38;5;241m=\u001b[39m \u001b[38;5;28;43mself\u001b[39;49m\u001b[38;5;241;43m.\u001b[39;49m\u001b[43m_set_noconvert_dtype_columns\u001b[49m\u001b[43m(\u001b[49m\n\u001b[1;32m    216\u001b[0m \u001b[43m    \u001b[49m\u001b[43mcol_indices\u001b[49m\u001b[43m,\u001b[49m\n\u001b[1;32m    217\u001b[0m \u001b[43m    \u001b[49m\u001b[38;5;28;43mself\u001b[39;49m\u001b[38;5;241;43m.\u001b[39;49m\u001b[43mnames\u001b[49m\u001b[43m,\u001b[49m\u001b[43m  \u001b[49m\u001b[38;5;66;43;03m# type: ignore[has-type]\u001b[39;49;00m\n\u001b[1;32m    218\u001b[0m \u001b[43m\u001b[49m\u001b[43m)\u001b[49m\n\u001b[1;32m    219\u001b[0m \u001b[38;5;28;01mfor\u001b[39;00m col \u001b[38;5;129;01min\u001b[39;00m noconvert_columns:\n\u001b[1;32m    220\u001b[0m     \u001b[38;5;28mself\u001b[39m\u001b[38;5;241m.\u001b[39m_reader\u001b[38;5;241m.\u001b[39mset_noconvert(col)\n",
      "File \u001b[0;32m~/Projects/SPX/SPX-analysis/SPX-venv/lib/python3.12/site-packages/pandas/io/parsers/base_parser.py:664\u001b[0m, in \u001b[0;36mParserBase._set_noconvert_dtype_columns\u001b[0;34m(self, col_indices, names)\u001b[0m\n\u001b[1;32m    662\u001b[0m \u001b[38;5;28;01mif\u001b[39;00m \u001b[38;5;28misinstance\u001b[39m(\u001b[38;5;28mself\u001b[39m\u001b[38;5;241m.\u001b[39mindex_col, \u001b[38;5;28mlist\u001b[39m):\n\u001b[1;32m    663\u001b[0m     \u001b[38;5;28;01mfor\u001b[39;00m k \u001b[38;5;129;01min\u001b[39;00m \u001b[38;5;28mself\u001b[39m\u001b[38;5;241m.\u001b[39mindex_col:\n\u001b[0;32m--> 664\u001b[0m         noconvert_columns\u001b[38;5;241m.\u001b[39madd(\u001b[43m_set\u001b[49m\u001b[43m(\u001b[49m\u001b[43mk\u001b[49m\u001b[43m)\u001b[49m)\n\u001b[1;32m    665\u001b[0m \u001b[38;5;28;01melif\u001b[39;00m \u001b[38;5;28mself\u001b[39m\u001b[38;5;241m.\u001b[39mindex_col \u001b[38;5;129;01mis\u001b[39;00m \u001b[38;5;129;01mnot\u001b[39;00m \u001b[38;5;28;01mNone\u001b[39;00m:\n\u001b[1;32m    666\u001b[0m     noconvert_columns\u001b[38;5;241m.\u001b[39madd(_set(\u001b[38;5;28mself\u001b[39m\u001b[38;5;241m.\u001b[39mindex_col))\n",
      "File \u001b[0;32m~/Projects/SPX/SPX-analysis/SPX-venv/lib/python3.12/site-packages/pandas/io/parsers/base_parser.py:641\u001b[0m, in \u001b[0;36mParserBase._set_noconvert_dtype_columns.<locals>._set\u001b[0;34m(x)\u001b[0m\n\u001b[1;32m    638\u001b[0m     x \u001b[38;5;241m=\u001b[39m usecols[x]\n\u001b[1;32m    640\u001b[0m \u001b[38;5;28;01mif\u001b[39;00m \u001b[38;5;129;01mnot\u001b[39;00m is_integer(x):\n\u001b[0;32m--> 641\u001b[0m     x \u001b[38;5;241m=\u001b[39m col_indices[\u001b[43mnames\u001b[49m\u001b[38;5;241;43m.\u001b[39;49m\u001b[43mindex\u001b[49m\u001b[43m(\u001b[49m\u001b[43mx\u001b[49m\u001b[43m)\u001b[49m]\n\u001b[1;32m    643\u001b[0m \u001b[38;5;28;01mreturn\u001b[39;00m x\n",
      "\u001b[0;31mValueError\u001b[0m: 'Date' is not in list"
     ]
    }
   ],
   "source": [
    "filepath = './daily-data/BRK.B.csv'\n",
    "a = pd.read_csv(filepath, parse_dates=True,index_col='Date')\n",
    "a.index"
   ]
  },
  {
   "cell_type": "code",
   "execution_count": null,
   "metadata": {},
   "outputs": [],
   "source": [
    "\n",
    "# Create columns for past results\n",
    "for i in range(pastqtrs):\n",
    "    col_name = f'PAdilutedEPS_{i}'\n",
    "    col_name_days = f'PAdilutedEPS_{i}_days_ago' #filed \n",
    "    Training_data[col_name] = pd.Series(dtype=float)\n",
    "    Training_data[col_name_days] = pd.Series(dtype=int)\n"
   ]
  }
 ],
 "metadata": {
  "kernelspec": {
   "display_name": "SPX-venv",
   "language": "python",
   "name": "python3"
  },
  "language_info": {
   "codemirror_mode": {
    "name": "ipython",
    "version": 3
   },
   "file_extension": ".py",
   "mimetype": "text/x-python",
   "name": "python",
   "nbconvert_exporter": "python",
   "pygments_lexer": "ipython3",
   "version": "3.12.6"
  }
 },
 "nbformat": 4,
 "nbformat_minor": 2
}

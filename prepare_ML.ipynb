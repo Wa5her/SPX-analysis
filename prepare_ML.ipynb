{
 "cells": [
  {
   "cell_type": "code",
   "execution_count": 77,
   "metadata": {},
   "outputs": [],
   "source": [
    "import pandas as pd\n",
    "from sklearn.preprocessing import StandardScaler, OrdinalEncoder\n",
    "from sklearn.compose import ColumnTransformer\n",
    "from sklearn.pipeline import Pipeline\n",
    "from sklearn.impute import SimpleImputer\n",
    "from sklearn.decomposition import PCA\n",
    "from sklearn.model_selection import train_test_split\n",
    "from sklearn.linear_model import LinearRegression\n",
    "from sklearn.metrics import mean_squared_error, r2_score\n",
    "from datetime import datetime\n",
    "#"
   ]
  },
  {
   "cell_type": "code",
   "execution_count": 73,
   "metadata": {},
   "outputs": [],
   "source": [
    "Training_data = pd.read_csv('training_data.csv',parse_dates=['start','end','filed'])\n",
    "Training_data['filing age'] = (datetime.now() - Training_data['filed']).dt.days\n",
    "Feature_data = Training_data.dropna()\n",
    "Result_data = Feature_data['Diluted EPS PA']\n",
    "Feature_data = Feature_data.drop(columns=['start','end','filed','form','Diluted EPS PA']).copy()"
   ]
  },
  {
   "cell_type": "code",
   "execution_count": 74,
   "metadata": {},
   "outputs": [],
   "source": [
    "\n",
    "df = Feature_data.copy()\n",
    "# Define the columns for PCA\n",
    "columns_for_pca = df.columns.tolist()\n",
    "\n",
    "# Handle categorical column 'ticker' with ordinal encoding\n",
    "categorical_features = ['ticker']\n",
    "numerical_features = list(set(columns_for_pca) - set(categorical_features))\n",
    "\n",
    "# Preprocessing for numerical data: fill missing values and scale\n",
    "numerical_transformer = Pipeline(steps=[\n",
    "    ('imputer', SimpleImputer(strategy='mean')),\n",
    "    ('scaler', StandardScaler())\n",
    "])\n",
    "\n",
    "# Preprocessing for categorical data: ordinal encode\n",
    "categorical_transformer = Pipeline(steps=[\n",
    "    ('imputer', SimpleImputer(strategy='constant', fill_value='missing')),\n",
    "    ('encoder', OrdinalEncoder()),\n",
    "    ('scaler', StandardScaler())\n",
    "])\n",
    "\n",
    "# Bundle preprocessing for numerical and categorical data\n",
    "preprocessor = ColumnTransformer(\n",
    "    transformers=[\n",
    "        ('num', numerical_transformer, numerical_features),\n",
    "        ('cat', categorical_transformer, categorical_features)\n",
    "    ])\n",
    "\n",
    "# Apply the transformations to the data\n",
    "array_pca_ready = preprocessor.fit_transform(df)\n",
    "\n",
    "# Generate the output column names\n",
    "numerical_columns = numerical_features\n",
    "encoded_categorical_columns = [f\"{feature}_{i}\" for feature in categorical_features for i in range(df[categorical_features[0]].nunique())]\n",
    "output_columns = numerical_columns + categorical_features\n",
    "\n",
    "# Save to a new CSV file if needed\n",
    "df_pca_ready =pd.DataFrame(array_pca_ready, columns=output_columns)\n",
    "#print(df_pca_ready.head())\n",
    "df_pca_ready.to_csv('pca_input.csv', index=False)"
   ]
  },
  {
   "cell_type": "code",
   "execution_count": 88,
   "metadata": {},
   "outputs": [],
   "source": [
    "cov_matrix = df_pca_ready.cov()"
   ]
  },
  {
   "cell_type": "code",
   "execution_count": null,
   "metadata": {},
   "outputs": [
    {
     "name": "stdout",
     "output_type": "stream",
     "text": [
      "20 Components explains 98.57% of the variance\n"
     ]
    }
   ],
   "source": [
    "# Perform PCA iteratively to identify the right number of components\n",
    "explained = np.empty(60)\n",
    "for i in range(60):\n",
    "    PCA_model = PCA(n_components=i)\n",
    "    principalcomponents = PCA_model.fit(array_pca_ready)\n",
    "    explained[i] = sum(principalcomponents.explained_variance_ratio_)\n",
    "    #if sum(PCA_model.explained_variance_ratio_) >0.9999:\n",
    "        #break\n",
    "i = 20\n",
    "print(f\"{i} Components explains {explained[i]:0.2%} of the variance\")\n",
    "# Based on this data set 20 components explain 98.5% of the variance\n",
    "    "
   ]
  },
  {
   "cell_type": "code",
   "execution_count": 85,
   "metadata": {},
   "outputs": [
    {
     "name": "stdout",
     "output_type": "stream",
     "text": [
      "Mean Squared Error (MSE): 91636934898.63142\n",
      "Root Mean Squared Error (RMSE): 302715.93102879706\n",
      "R-squared: -0.15408770950250483\n"
     ]
    }
   ],
   "source": [
    "PCA_model = PCA(n_components=40)\n",
    "feature_data_PCA = PCA_model.fit_transform(array_pca_ready)\n",
    "\n",
    "X_train, X_test, y_train, y_test = train_test_split(\n",
    "    feature_data_PCA, Result_data,\n",
    "    shuffle=True, test_size=0.1, random_state=0)\n",
    "\n",
    "# Train the regression model on the transformed training set\n",
    "model = LinearRegression() # or any other regression model\n",
    "model.fit(X_train, y_train)\n",
    "# Make predictions on the testing set\n",
    "y_pred = model.predict(X_test)\n",
    "\n",
    "# Evaluate the model performance\n",
    "mse = mean_squared_error(y_test, y_pred)\n",
    "rmse = np.sqrt(mse)\n",
    "r2 = r2_score(y_test, y_pred)\n",
    "\n",
    "print(\"Mean Squared Error (MSE):\", mse)\n",
    "print(\"Root Mean Squared Error (RMSE):\", rmse)\n",
    "print(\"R-squared:\", r2)\n"
   ]
  }
 ],
 "metadata": {
  "kernelspec": {
   "display_name": "SPX-venv",
   "language": "python",
   "name": "python3"
  },
  "language_info": {
   "codemirror_mode": {
    "name": "ipython",
    "version": 3
   },
   "file_extension": ".py",
   "mimetype": "text/x-python",
   "name": "python",
   "nbconvert_exporter": "python",
   "pygments_lexer": "ipython3",
   "version": "3.12.6"
  }
 },
 "nbformat": 4,
 "nbformat_minor": 2
}

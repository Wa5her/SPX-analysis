{
 "cells": [
  {
   "cell_type": "markdown",
   "metadata": {},
   "source": [
    "Using SEC data to extract items of interest\n"
   ]
  },
  {
   "cell_type": "code",
   "execution_count": 1,
   "metadata": {},
   "outputs": [],
   "source": [
    "import requests\n",
    "import os\n",
    "import csv\n",
    "import pandas as pd\n",
    "from time import sleep\n",
    "CIKlookup = \"https://www.sec.gov/include/ticker.txt\"\n",
    "CIKfile = \"CIK.tsv\"\n",
    "secURL = \"https://data.sec.gov/api/xbrl/companyfacts/CIK0000320193.json\""
   ]
  },
  {
   "cell_type": "markdown",
   "metadata": {},
   "source": [
    "The code below is a function that gets the CIK value for a given ticker. "
   ]
  },
  {
   "cell_type": "code",
   "execution_count": 2,
   "metadata": {},
   "outputs": [
    {
     "name": "stdout",
     "output_type": "stream",
     "text": [
      "The CIK for CRM is 0001108524\n"
     ]
    }
   ],
   "source": [
    "def download_file(url=\"https://www.sec.gov/include/ticker.txt\", filename=\"CIK.tsv\", user_agent=\"Michelle LiuWatts admin@hercompany.com\"):\n",
    "    headers = {\"User-Agent\": user_agent}\n",
    "    response = requests.get(url, headers=headers)\n",
    "    if response.status_code == 200:\n",
    "        with open(filename, 'wb') as f:\n",
    "            f.write(response.content)\n",
    "        return f\"File downloaded successfully as {filename}\"\n",
    "    else:\n",
    "        return f\"Failed to download file: {response.status_code}\"\n",
    "\n",
    "\n",
    "def get_cik_from_ticker(ticker, file_path='CIK.tsv'):\n",
    "    if not os.path.exists(file_path):\n",
    "        result = download_file()\n",
    "        if \"Failed\" in result:\n",
    "            return result\n",
    "\n",
    "    with open(file_path, 'r') as file:\n",
    "        reader = csv.reader(file, delimiter='\\t')\n",
    "        for row in reader:\n",
    "            # print(row)\n",
    "            if row[0] == ticker.lower():\n",
    "                return row[1].zfill(10)\n",
    "    return \"Ticker not found.\""
   ]
  },
  {
   "cell_type": "code",
   "execution_count": 8,
   "metadata": {},
   "outputs": [
    {
     "name": "stdout",
     "output_type": "stream",
     "text": [
      "The CIK for FI is Ticker not found.\n"
     ]
    }
   ],
   "source": [
    "\n",
    "# Example usage\n",
    "ticker = \"FI\"\n",
    "cik = get_cik_from_ticker(ticker)\n",
    "print(f\"The CIK for {ticker} is {cik}\")"
   ]
  },
  {
   "cell_type": "code",
   "execution_count": 3,
   "metadata": {},
   "outputs": [
    {
     "name": "stdout",
     "output_type": "stream",
     "text": [
      "AAPL already downloaded\n",
      "BRK.B failed to download\n",
      "- failed to download\n",
      "FI failed to download\n",
      "GEV failed to download\n",
      "KVUE failed to download\n",
      "COR failed to download\n",
      "GEHC failed to download\n",
      "SW failed to download\n",
      "VLTO failed to download\n",
      "CPAY failed to download\n",
      "EG failed to download\n",
      "GEN failed to download\n",
      "RVTY failed to download\n",
      "DAY failed to download\n",
      "SOLV failed to download\n",
      "BF.B failed to download\n"
     ]
    }
   ],
   "source": [
    "spy_df = pd.read_csv(\"spy_holdings.csv\")\n",
    "# spy_df.head()\n",
    "spy_df['CIK'] = spy_df['Ticker'].apply(get_cik_from_ticker)\n",
    "for i, row in spy_df.iterrows():\n",
    "    cik = row['CIK']\n",
    "    ticker = row['Ticker']\n",
    "    url = f\"https://data.sec.gov/api/xbrl/companyfacts/CIK{cik}.json\"\n",
    "    if not os.path.exists(f\"./qtrly-data/{ticker}.json\"):\n",
    "        result = download_file(url, f\"./qtrly-data/{ticker}.json\")\n",
    "        sleep(0.101)\n",
    "    else:\n",
    "        result = f\"{ticker} already downloaded\"\n",
    "        print(result)\n",
    "    if \"Failed\" in result:\n",
    "        print(f\"{ticker} failed to download\")"
   ]
  }
 ],
 "metadata": {
  "kernelspec": {
   "display_name": "Python 3",
   "language": "python",
   "name": "python3"
  },
  "language_info": {
   "codemirror_mode": {
    "name": "ipython",
    "version": 3
   },
   "file_extension": ".py",
   "mimetype": "text/x-python",
   "name": "python",
   "nbconvert_exporter": "python",
   "pygments_lexer": "ipython3",
   "version": "3.12.8"
  }
 },
 "nbformat": 4,
 "nbformat_minor": 2
}
